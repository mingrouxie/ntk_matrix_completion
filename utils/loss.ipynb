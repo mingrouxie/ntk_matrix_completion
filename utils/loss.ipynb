{
 "cells": [
  {
   "cell_type": "code",
   "execution_count": 2,
   "metadata": {},
   "outputs": [],
   "source": [
    "import torch.nn as nn\n",
    "import numpy as np\n",
    "import pandas as pd\n",
    "import torch"
   ]
  },
  {
   "attachments": {},
   "cell_type": "markdown",
   "metadata": {},
   "source": [
    "# TLDR CrossEntropyLoss works with both class indices and class probabilities as inputs for the target. For the predictions, they do not have to be between 0 and 1. There is an inbuilt softmax function"
   ]
  },
  {
   "cell_type": "code",
   "execution_count": 7,
   "metadata": {},
   "outputs": [
    {
     "data": {
      "text/plain": [
       "(tensor(1.8856, grad_fn=<NllLossBackward0>),\n",
       " tensor([[ 1.5344,  0.5114, -1.7069,  0.1978,  1.2031],\n",
       "         [ 1.2939,  0.7978, -0.7781,  0.6881,  1.0498],\n",
       "         [ 0.8508, -0.4573,  1.5410,  0.3770, -0.4541]], requires_grad=True),\n",
       " tensor([4, 3, 1]))"
      ]
     },
     "execution_count": 7,
     "metadata": {},
     "output_type": "execute_result"
    }
   ],
   "source": [
    "# Example of target with class indices\n",
    "loss = nn.CrossEntropyLoss()\n",
    "input = torch.randn(3, 5, requires_grad=True)\n",
    "target = torch.empty(3, dtype=torch.long).random_(5)\n",
    "output = loss(input, target)\n",
    "output.backward()\n",
    "output, input, target # I see. Just the raw logits from the model would do."
   ]
  },
  {
   "cell_type": "code",
   "execution_count": 9,
   "metadata": {},
   "outputs": [
    {
     "data": {
      "text/plain": [
       "(tensor(2.1223, grad_fn=<DivBackward1>),\n",
       " tensor([[-0.9275,  1.6700, -1.4788,  1.2130, -1.0821],\n",
       "         [-0.4786,  0.2991,  0.4053,  0.7525, -1.3179],\n",
       "         [ 1.2246, -0.0024,  0.1720,  0.4070,  1.0896]], requires_grad=True),\n",
       " tensor([[0.7784, 0.0134, 0.0541, 0.0181, 0.1358],\n",
       "         [0.0160, 0.0122, 0.2903, 0.4775, 0.2040],\n",
       "         [0.0338, 0.2566, 0.0769, 0.0985, 0.5342]]))"
      ]
     },
     "execution_count": 9,
     "metadata": {},
     "output_type": "execute_result"
    }
   ],
   "source": [
    "# Example of target with class probabilities\n",
    "input = torch.randn(3, 5, requires_grad=True) # does not have to be in [0,1]\n",
    "target = torch.randn(3, 5).softmax(dim=1) \n",
    "output = loss(input, target)\n",
    "output.backward()\n",
    "output, input, target # Both work, actually"
   ]
  },
  {
   "cell_type": "code",
   "execution_count": 1,
   "metadata": {},
   "outputs": [
    {
     "data": {
      "text/plain": [
       "'/home/mrx/projects/affinity_pool/ntk_matrix_completion/output/2023_multitask/multitask_2023218_172227'"
      ]
     },
     "execution_count": 1,
     "metadata": {},
     "output_type": "execute_result"
    }
   ],
   "source": [
    "import re\n",
    "string = \"/pool001/mrx/projects/affinity/ntk_matrix_completion/output/2023_multitask/multitask_2023218_172227\"\n",
    "pattern = \"/pool001/mrx/projects/affinity\"\n",
    "replacement = \"/home/mrx/projects/affinity_pool\"\n",
    "re.sub(pattern, replacement, string, count=0, flags=0)"
   ]
  }
 ],
 "metadata": {
  "kernelspec": {
   "display_name": "ntk",
   "language": "python",
   "name": "python3"
  },
  "language_info": {
   "codemirror_mode": {
    "name": "ipython",
    "version": 3
   },
   "file_extension": ".py",
   "mimetype": "text/x-python",
   "name": "python",
   "nbconvert_exporter": "python",
   "pygments_lexer": "ipython3",
   "version": "3.8.5"
  },
  "orig_nbformat": 4,
  "vscode": {
   "interpreter": {
    "hash": "a2f154002a380635a67acf0a5a144c73b18d89303ebb310978bbb02848259008"
   }
  }
 },
 "nbformat": 4,
 "nbformat_minor": 2
}
